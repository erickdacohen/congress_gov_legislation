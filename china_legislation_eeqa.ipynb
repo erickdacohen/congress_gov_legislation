{
 "cells": [
  {
   "cell_type": "markdown",
   "id": "heated-singing",
   "metadata": {},
   "source": [
    "# EEQA Legislation\n",
    "China_PP Shirley and Gifford"
   ]
  },
  {
   "cell_type": "code",
   "execution_count": 1,
   "id": "married-strength",
   "metadata": {},
   "outputs": [],
   "source": [
    "import ktrain \n",
    "from ktrain import text"
   ]
  },
  {
   "cell_type": "code",
   "execution_count": 2,
   "id": "worst-analysis",
   "metadata": {},
   "outputs": [],
   "source": [
    "index_dir = r'tmp/legislation/'\n",
    "path_to_lawdocs = r'data-output/'"
   ]
  },
  {
   "cell_type": "code",
   "execution_count": 6,
   "id": "central-aruba",
   "metadata": {},
   "outputs": [
    {
     "name": "stdout",
     "output_type": "stream",
     "text": [
      "50 docs indexed\n",
      "100 docs indexed\n",
      "150 docs indexed\n",
      "200 docs indexed\n"
     ]
    }
   ],
   "source": [
    "text.SimpleQA.initialize_index(index_dir)\n",
    "text.SimpleQA.index_from_folder(path_to_lawdocs, \n",
    "                                index_dir, \n",
    "                                use_text_extraction=True,\n",
    "                                commit_every=50,\n",
    "                                breakup_docs=True,\n",
    "                                multisegment=True, \n",
    "                                procs=-1\n",
    "                               )"
   ]
  },
  {
   "cell_type": "code",
   "execution_count": 3,
   "id": "curious-framing",
   "metadata": {},
   "outputs": [],
   "source": [
    "qa = text.SimpleQA(index_dir)"
   ]
  },
  {
   "cell_type": "code",
   "execution_count": 4,
   "id": "incident-thomson",
   "metadata": {},
   "outputs": [
    {
     "data": {
      "text/html": [],
      "text/plain": [
       "<IPython.core.display.HTML object>"
      ]
     },
     "metadata": {},
     "output_type": "display_data"
    },
    {
     "data": {
      "text/html": [
       "<table border=\"1\" class=\"dataframe\">\n",
       "  <thead>\n",
       "    <tr style=\"text-align: right;\">\n",
       "      <th></th>\n",
       "      <th>Candidate Answer</th>\n",
       "      <th>Context</th>\n",
       "      <th>Confidence</th>\n",
       "      <th>Document Reference</th>\n",
       "    </tr>\n",
       "  </thead>\n",
       "  <tbody>\n",
       "    <tr>\n",
       "      <th>0</th>\n",
       "      <td>the director of the national counterintelligence and security center</td>\n",
       "      <td><div> — on an annual basis, consistent with the protection of intelligence sources and methods,  <font color='red'>the director of the national counterintelligence and security center</font>  shall submit to the congressional intelligence committees, the committee on foreign affairs of the house of representatives, and the committee on foreign relations of the senate a report on the influence operations and campaigns in the united states conducted by the communist party of china.</div></td>\n",
       "      <td>4.658624e-01</td>\n",
       "      <td>file_num_193.pdf</td>\n",
       "    </tr>\n",
       "    <tr>\n",
       "      <th>1</th>\n",
       "      <td>the secretary of defense</td>\n",
       "      <td><div> — not later than 180 days after the date of the enactment of this act,  <font color='red'>the secretary of defense</font> , in consultation with the heads of other federal departments and agencies, as appropriate, shall submit to the congressional defense committees a report describing the cost imposition strategies of the department of defense with respect to the people ’ s republic of china and the russian federation.</div></td>\n",
       "      <td>2.176364e-01</td>\n",
       "      <td>file_num_193.pdf</td>\n",
       "    </tr>\n",
       "    <tr>\n",
       "      <th>2</th>\n",
       "      <td>the director of national intelligence</td>\n",
       "      <td><div> — not later than 180 days after the date of the enactment of this act,  <font color='red'>the director of national intelligence</font> , acting through the office of civil liberties, privacy, and transparency, in coordination with the civil liberties and privacy officers of the elements of the intelligence community, shall submit a report to the congressional intelligence committees containing — (1) a review of how the policies, procedures, and practices of the intelligence community that govern the intelligence</div></td>\n",
       "      <td>1.480987e-01</td>\n",
       "      <td>file_num_193.pdf</td>\n",
       "    </tr>\n",
       "    <tr>\n",
       "      <th>3</th>\n",
       "      <td>the secretary of state</td>\n",
       "      <td><div> — (1) not later than 4 months after the date of enactment of this act,  <font color='red'>the secretary of state</font>  shall submit a report to the committees on appropriations indicating the amount of funds that unfpa is budgeting for the year in which the report is submitted for a country program in the people ’ s republic of china.</div></td>\n",
       "      <td>1.212889e-01</td>\n",
       "      <td>file_num_136.pdf</td>\n",
       "    </tr>\n",
       "    <tr>\n",
       "      <th>4</th>\n",
       "      <td>the director of the federal bureau of investigation</td>\n",
       "      <td><div>not later than 90 days after the date of the enactment of this act,  <font color='red'>the director of the federal bureau of investigation</font> , in consultation with the secretary of state, shall submit a report to the committee on foreign relations of the senate, the committee on the judiciary of the senate, the select committee on intelligence of the senate, the committee on foreign affairs of the house of representatives, the committee on the judiciary of the house of representatives, and the permanent select committee on intelligence of the house of representatives that outlines all of the efforts to protect united states citizens and residents, including ethnic uyghurs and chinese nationals legally studying or working temporarily in the united states, who have experienced harassment or intimidation within the united states by officials or agents of the government of the people ’ s republic of china.</div></td>\n",
       "      <td>4.711266e-02</td>\n",
       "      <td>file_num_154.pdf</td>\n",
       "    </tr>\n",
       "    <tr>\n",
       "      <th>5</th>\n",
       "      <td>— the report under subsection (b) shall be submitted in unclassified form</td>\n",
       "      <td><div>  <font color='red'>— the report under subsection (b) shall be submitted in unclassified form</font> , but may include a classified annex.</div></td>\n",
       "      <td>5.178872e-07</td>\n",
       "      <td>file_num_193.pdf</td>\n",
       "    </tr>\n",
       "    <tr>\n",
       "      <th>6</th>\n",
       "      <td>the intelligence community</td>\n",
       "      <td><div> — the report under subsection (a) shall include the following : (1) a description of any significant efforts by  <font color='red'>the intelligence community</font>  to coordinate technical and material support for taiwan to identify, disrupt, and combat influence operations specified in subsection (a) (1).</div></td>\n",
       "      <td>4.333250e-07</td>\n",
       "      <td>file_num_193.pdf</td>\n",
       "    </tr>\n",
       "  </tbody>\n",
       "</table>"
      ],
      "text/plain": [
       "<IPython.core.display.HTML object>"
      ]
     },
     "metadata": {},
     "output_type": "display_data"
    }
   ],
   "source": [
    "answers = qa.ask('Who shall write a report on China?')\n",
    "qa.display_answers(answers)"
   ]
  },
  {
   "cell_type": "code",
   "execution_count": 5,
   "id": "aware-hormone",
   "metadata": {},
   "outputs": [
    {
     "data": {
      "text/html": [],
      "text/plain": [
       "<IPython.core.display.HTML object>"
      ]
     },
     "metadata": {},
     "output_type": "display_data"
    },
    {
     "data": {
      "text/html": [
       "<table border=\"1\" class=\"dataframe\">\n",
       "  <thead>\n",
       "    <tr style=\"text-align: right;\">\n",
       "      <th></th>\n",
       "      <th>Candidate Answer</th>\n",
       "      <th>Context</th>\n",
       "      <th>Confidence</th>\n",
       "      <th>Document Reference</th>\n",
       "    </tr>\n",
       "  </thead>\n",
       "  <tbody>\n",
       "    <tr>\n",
       "      <th>0</th>\n",
       "      <td>— matters relating to china</td>\n",
       "      <td><div>subtitle b  <font color='red'>— matters relating to china</font>  sec.</div></td>\n",
       "      <td>0.542129</td>\n",
       "      <td>file_num_193.pdf</td>\n",
       "    </tr>\n",
       "    <tr>\n",
       "      <th>1</th>\n",
       "      <td>) a description of the organization of the united front work department of the people ’ s republic of china, or the successors of the united front work department, and the links between the united front work department and the central committee of the communist party of china. ‘ ‘ (2) an assessment of the degree to which organizations that are associated with or receive funding from the united front work department, particularly such entities operating in the united states, are formally tasked by the chinese communist party or the government of china</td>\n",
       "      <td><div> — each report under subsection (a) shall include the following : ‘ ‘ (1 <font color='red'>) a description of the organization of the united front work department of the people ’ s republic of china, or the successors of the united front work department, and the links between the united front work department and the central committee of the communist party of china. ‘ ‘ (2) an assessment of the degree to which organizations that are associated with or receive funding from the united front work department, particularly such entities operating in the united states, are formally tasked by the chinese communist party or the government of china</font> .</div></td>\n",
       "      <td>0.255743</td>\n",
       "      <td>file_num_193.pdf</td>\n",
       "    </tr>\n",
       "    <tr>\n",
       "      <th>2</th>\n",
       "      <td>the national people ’ s congress</td>\n",
       "      <td><div> (3) the obligations of the government of china under the basic law originate from the joint declaration, were passed into the domestic law of china by  <font color='red'>the national people ’ s congress</font> , and are widely considered by citizens of hong kong as part of the de facto legal constitution of hong kong.</div></td>\n",
       "      <td>0.120578</td>\n",
       "      <td>file_num_15.pdf</td>\n",
       "    </tr>\n",
       "    <tr>\n",
       "      <th>3</th>\n",
       "      <td>a foreign person materially contributes to the failure of the government of china</td>\n",
       "      <td><div> — for purposes of this section,  <font color='red'>a foreign person materially contributes to the failure of the government of china</font>  to meet its obligations under the joint declaration or the basic law if the person — (1) took action that resulted in the inability of the people of hong kong — (a) to enjoy freedom of assembly, speech, press, or independent rule of law ; or (b) to participate in democratic outcomes ; or (2) otherwise took action that reduces the high degree of autonomy of hong kong.</div></td>\n",
       "      <td>0.054723</td>\n",
       "      <td>file_num_15.pdf</td>\n",
       "    </tr>\n",
       "    <tr>\n",
       "      <th>4</th>\n",
       "      <td>installation california naval air weapons station china lake naval air weapons station china lake naval air weapons station china lake naval air weapons station china lake naval air weapons station china lake naval air weapons station china lake naval air weapons station china lake north carolina</td>\n",
       "      <td><div>state / country and  <font color='red'>installation california naval air weapons station china lake naval air weapons station china lake naval air weapons station china lake naval air weapons station china lake naval air weapons station china lake naval air weapons station china lake naval air weapons station china lake north carolina</font>  camp lejeune camp lejeune camp lejeune camp lejeune</div></td>\n",
       "      <td>0.026826</td>\n",
       "      <td>file_num_193.pdf</td>\n",
       "    </tr>\n",
       "  </tbody>\n",
       "</table>"
      ],
      "text/plain": [
       "<IPython.core.display.HTML object>"
      ]
     },
     "metadata": {},
     "output_type": "display_data"
    }
   ],
   "source": [
    "answers = qa.ask('China')\n",
    "qa.display_answers(answers)"
   ]
  },
  {
   "cell_type": "code",
   "execution_count": 6,
   "id": "later-message",
   "metadata": {},
   "outputs": [
    {
     "data": {
      "text/html": [],
      "text/plain": [
       "<IPython.core.display.HTML object>"
      ]
     },
     "metadata": {},
     "output_type": "display_data"
    },
    {
     "data": {
      "text/html": [
       "<table border=\"1\" class=\"dataframe\">\n",
       "  <thead>\n",
       "    <tr style=\"text-align: right;\">\n",
       "      <th></th>\n",
       "      <th>Candidate Answer</th>\n",
       "      <th>Context</th>\n",
       "      <th>Confidence</th>\n",
       "      <th>Document Reference</th>\n",
       "    </tr>\n",
       "  </thead>\n",
       "  <tbody>\n",
       "    <tr>\n",
       "      <th>0</th>\n",
       "      <td>— not later than september 30 of each year</td>\n",
       "      <td><div>  <font color='red'>— not later than september 30 of each year</font> , a state or indian tribe desiring to receive a grant under the program shall submit to the secretaries a report describing, for the 1 year period ending on that september 30, the losses of livestock due to depredation by federally protected species occurring on — (i) federal, state, or private land within the applicable state ; or (ii) land owned by, or held in trust for the benefit of, the applicable indian tribe.</div></td>\n",
       "      <td>0.995538</td>\n",
       "      <td>file_num_170.pdf</td>\n",
       "    </tr>\n",
       "    <tr>\n",
       "      <th>1</th>\n",
       "      <td>annual reports on influence operations and campaigns in the united states</td>\n",
       "      <td><div>  <font color='red'>annual reports on influence operations and campaigns in the united states</font>  by the communist party of china.</div></td>\n",
       "      <td>0.003106</td>\n",
       "      <td>file_num_193.pdf</td>\n",
       "    </tr>\n",
       "    <tr>\n",
       "      <th>2</th>\n",
       "      <td>annual reports on influence operations and campaigns in the united states</td>\n",
       "      <td><div>  <font color='red'>annual reports on influence operations and campaigns in the united states</font>  by the communist party of china.</div></td>\n",
       "      <td>0.000648</td>\n",
       "      <td>file_num_193.pdf</td>\n",
       "    </tr>\n",
       "    <tr>\n",
       "      <th>3</th>\n",
       "      <td>— june 17,2020</td>\n",
       "      <td><div>public law 116 – 145  <font color='red'>— june 17,2020</font>  (6) uyghurs and ethnic kazakhs who have obtained permanent residence or citizenship in other countries report being subjected to threats and harassment from chinese officials.</div></td>\n",
       "      <td>0.000506</td>\n",
       "      <td>file_num_154.pdf</td>\n",
       "    </tr>\n",
       "    <tr>\n",
       "      <th>4</th>\n",
       "      <td>annual reports on influence operations and campaigns in the united states</td>\n",
       "      <td><div>  <font color='red'>annual reports on influence operations and campaigns in the united states</font>  by the communist party of china.</div></td>\n",
       "      <td>0.000198</td>\n",
       "      <td>file_num_193.pdf</td>\n",
       "    </tr>\n",
       "    <tr>\n",
       "      <th>5</th>\n",
       "      <td>? by the government of the people ’ s republic of china, or intermediaries of such governments, based on politically motivated considerations related to their exercise of rights enumerated in the universal declaration of human rights, done at paris december 10,1948</td>\n",
       "      <td><div> <font color='red'>? by the government of the people ’ s republic of china, or intermediaries of such governments, based on politically motivated considerations related to their exercise of rights enumerated in the universal declaration of human rights, done at paris december 10,1948</font> </div></td>\n",
       "      <td>0.000004</td>\n",
       "      <td>file_num_191.pdf</td>\n",
       "    </tr>\n",
       "  </tbody>\n",
       "</table>"
      ],
      "text/plain": [
       "<IPython.core.display.HTML object>"
      ]
     },
     "metadata": {},
     "output_type": "display_data"
    }
   ],
   "source": [
    "answers = qa.ask('When are reports on China due?')\n",
    "qa.display_answers(answers)"
   ]
  },
  {
   "cell_type": "code",
   "execution_count": 13,
   "id": "alleged-prisoner",
   "metadata": {},
   "outputs": [
    {
     "data": {
      "text/html": [],
      "text/plain": [
       "<IPython.core.display.HTML object>"
      ]
     },
     "metadata": {},
     "output_type": "display_data"
    },
    {
     "data": {
      "text/html": [
       "<table border=\"1\" class=\"dataframe\">\n",
       "  <thead>\n",
       "    <tr style=\"text-align: right;\">\n",
       "      <th></th>\n",
       "      <th>Candidate Answer</th>\n",
       "      <th>Context</th>\n",
       "      <th>Confidence</th>\n",
       "      <th>Document Reference</th>\n",
       "    </tr>\n",
       "  </thead>\n",
       "  <tbody>\n",
       "    <tr>\n",
       "      <th>0</th>\n",
       "      <td>for polar research and operations support</td>\n",
       "      <td><div>) ; services as authorized by section 3109 of title 5, united states code ; maintenance and operation of aircraft and purchase of flight services for research support ; acquisition of aircraft ; and authorized travel ; $ 6,520,000,000, to remain available until september 30,2020, of which not to exceed $ 544,000,000 shall remain available until expended  <font color='red'>for polar research and operations support</font> , and for reimbursement to other federal agencies for operational and science support and logistical and other related activities for the united states antarctic program : provided, that receipts for scientific support services and materials furnished by the national research centers and other national</div></td>\n",
       "      <td>0.716516</td>\n",
       "      <td>file_num_136.pdf</td>\n",
       "    </tr>\n",
       "    <tr>\n",
       "      <th>1</th>\n",
       "      <td>(sdb</td>\n",
       "      <td><div>item small diameter bomb  <font color='red'>(sdb</font> ) — emd.................</div></td>\n",
       "      <td>0.283484</td>\n",
       "      <td>file_num_193.pdf</td>\n",
       "    </tr>\n",
       "  </tbody>\n",
       "</table>"
      ],
      "text/plain": [
       "<IPython.core.display.HTML object>"
      ]
     },
     "metadata": {},
     "output_type": "display_data"
    }
   ],
   "source": [
    "answers = qa.ask('polar')\n",
    "qa.display_answers(answers)"
   ]
  }
 ],
 "metadata": {
  "kernelspec": {
   "display_name": "Python 3",
   "language": "python",
   "name": "python3"
  },
  "language_info": {
   "codemirror_mode": {
    "name": "ipython",
    "version": 3
   },
   "file_extension": ".py",
   "mimetype": "text/x-python",
   "name": "python",
   "nbconvert_exporter": "python",
   "pygments_lexer": "ipython3",
   "version": "3.7.9"
  }
 },
 "nbformat": 4,
 "nbformat_minor": 5
}
