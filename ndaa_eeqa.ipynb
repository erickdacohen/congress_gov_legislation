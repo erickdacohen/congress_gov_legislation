{
 "cells": [
  {
   "cell_type": "code",
   "execution_count": 1,
   "id": "solved-aspect",
   "metadata": {},
   "outputs": [],
   "source": [
    "import ktrain \n",
    "from ktrain import text"
   ]
  },
  {
   "cell_type": "code",
   "execution_count": 2,
   "id": "beginning-allowance",
   "metadata": {},
   "outputs": [],
   "source": [
    "index_dir = r'tmp/legislation-193/'\n",
    "path_to_lawdocs = r'ndaa/'"
   ]
  },
  {
   "cell_type": "code",
   "execution_count": 3,
   "id": "weighted-portrait",
   "metadata": {},
   "outputs": [],
   "source": [
    "text.SimpleQA.initialize_index(index_dir)\n",
    "text.SimpleQA.index_from_folder(path_to_lawdocs, \n",
    "                                index_dir, \n",
    "                                use_text_extraction=True,\n",
    "                                commit_every=50,\n",
    "                                breakup_docs=True,\n",
    "                                multisegment=True, \n",
    "                                procs=-1\n",
    "                               )"
   ]
  },
  {
   "cell_type": "code",
   "execution_count": 4,
   "id": "rolled-turning",
   "metadata": {},
   "outputs": [],
   "source": [
    "qa = text.SimpleQA(index_dir)"
   ]
  },
  {
   "cell_type": "code",
   "execution_count": 5,
   "id": "removable-facing",
   "metadata": {},
   "outputs": [
    {
     "data": {
      "text/html": [],
      "text/plain": [
       "<IPython.core.display.HTML object>"
      ]
     },
     "metadata": {},
     "output_type": "display_data"
    },
    {
     "data": {
      "text/html": [
       "<table border=\"1\" class=\"dataframe\">\n",
       "  <thead>\n",
       "    <tr style=\"text-align: right;\">\n",
       "      <th></th>\n",
       "      <th>Candidate Answer</th>\n",
       "      <th>Context</th>\n",
       "      <th>Confidence</th>\n",
       "      <th>Document Reference</th>\n",
       "    </tr>\n",
       "  </thead>\n",
       "  <tbody>\n",
       "    <tr>\n",
       "      <th>0</th>\n",
       "      <td>— matters relating to china</td>\n",
       "      <td><div>subtitle b  <font color='red'>— matters relating to china</font>  sec.</div></td>\n",
       "      <td>0.487164</td>\n",
       "      <td>file_num_193.pdf</td>\n",
       "    </tr>\n",
       "    <tr>\n",
       "      <th>1</th>\n",
       "      <td>) a description of the organization of the united front work department of the people ’ s republic of china, or the successors of the united front work department, and the links between the united front work department and the central committee of the communist party of china. ‘ ‘ (2) an assessment of the degree to which organizations that are associated with or receive funding from the united front work department, particularly such entities operating in the united states, are formally tasked by the chinese communist party or the government of china</td>\n",
       "      <td><div> — each report under subsection (a) shall include the following : ‘ ‘ (1 <font color='red'>) a description of the organization of the united front work department of the people ’ s republic of china, or the successors of the united front work department, and the links between the united front work department and the central committee of the communist party of china. ‘ ‘ (2) an assessment of the degree to which organizations that are associated with or receive funding from the united front work department, particularly such entities operating in the united states, are formally tasked by the chinese communist party or the government of china</font> .</div></td>\n",
       "      <td>0.325543</td>\n",
       "      <td>file_num_193.pdf</td>\n",
       "    </tr>\n",
       "    <tr>\n",
       "      <th>2</th>\n",
       "      <td>activities and operations targeting the people ’ s republic of china affect policies, procedures, and practices relating to the privacy and civil liberties of americans of chinese descent</td>\n",
       "      <td><div> <font color='red'>activities and operations targeting the people ’ s republic of china affect policies, procedures, and practices relating to the privacy and civil liberties of americans of chinese descent</font>  who may be targets of espionage and influence operations by china ; and (2) recommendations to ensure that the privacy and civil liberties of americans of chinese descent are sufficiently protected.</div></td>\n",
       "      <td>0.072406</td>\n",
       "      <td>file_num_193.pdf</td>\n",
       "    </tr>\n",
       "    <tr>\n",
       "      <th>3</th>\n",
       "      <td>is the sense of congress that — (1) the people ’ s republic of china appears to be specifically targeting the chinese american community for intelligence purposes</td>\n",
       "      <td><div> — it  <font color='red'>is the sense of congress that — (1) the people ’ s republic of china appears to be specifically targeting the chinese american community for intelligence purposes</font>  ; (2) such targeting carries a substantial risk that the loyalty of such americans may be generally questioned and lead to unacceptable stereotyping, targeting, and racial profiling ; (3) the united states government has a duty to warn and protect all americans including those of chinese descent from these intelligence efforts by the people ’ s republic of china ; (4) the broad stereotyping, targeting, and racial profiling of americans of chinese descent is contrary to the values of the united states and reinforces the flawed narrative perpetuated by the people ’ s republic of china that ethnically chinese individuals worldwide have a duty to support the people ’ s republic of china ; and (5) the united states efforts to combat the people ’ s republic of china ’ s intelligence activities should actively safeguard and promote the constitutional rights of all chinese americans.</div></td>\n",
       "      <td>0.043160</td>\n",
       "      <td>file_num_193.pdf</td>\n",
       "    </tr>\n",
       "    <tr>\n",
       "      <th>4</th>\n",
       "      <td>) it is imperative that the people ’ s republic of china follow through on full implementation of the new regulations, adopted may 1,2019, to treat all fentanyl analogues as controlled substances under the laws of the people ’ s republic of china</td>\n",
       "      <td><div> it is the sense of congress that — (1) the united states should apply economic and other financial sanctions to foreign traffickers of illicit opioids to protect the national security, foreign policy, and economy of the united states and the health of the people of the united states ; (2 <font color='red'>) it is imperative that the people ’ s republic of china follow through on full implementation of the new regulations, adopted may 1,2019, to treat all fentanyl analogues as controlled substances under the laws of the people ’ s republic of china</font> , including by devoting sufficient resources for implementation and strict enforcement of the new regulations ; and (3) the effective enforcement of the new regulations should result in diminished trafficking of illicit fentanyl originating from the people ’ s republic of china into the united states.</div></td>\n",
       "      <td>0.041879</td>\n",
       "      <td>file_num_193.pdf</td>\n",
       "    </tr>\n",
       "    <tr>\n",
       "      <th>5</th>\n",
       "      <td>installation california naval air weapons station china lake naval air weapons station china lake naval air weapons station china lake naval air weapons station china lake naval air weapons station china lake naval air weapons station china lake naval air weapons station china lake north carolina</td>\n",
       "      <td><div>state / country and  <font color='red'>installation california naval air weapons station china lake naval air weapons station china lake naval air weapons station china lake naval air weapons station china lake naval air weapons station china lake naval air weapons station china lake naval air weapons station china lake north carolina</font>  camp lejeune camp lejeune camp lejeune camp lejeune</div></td>\n",
       "      <td>0.016108</td>\n",
       "      <td>file_num_193.pdf</td>\n",
       "    </tr>\n",
       "    <tr>\n",
       "      <th>6</th>\n",
       "      <td>of committee to counter active measures</td>\n",
       "      <td><div>(a) scope  <font color='red'>of committee to counter active measures</font> .</div></td>\n",
       "      <td>0.013740</td>\n",
       "      <td>file_num_193.pdf</td>\n",
       "    </tr>\n",
       "  </tbody>\n",
       "</table>"
      ],
      "text/plain": [
       "<IPython.core.display.HTML object>"
      ]
     },
     "metadata": {},
     "output_type": "display_data"
    }
   ],
   "source": [
    "answers = qa.ask('China')\n",
    "qa.display_answers(answers)"
   ]
  },
  {
   "cell_type": "code",
   "execution_count": 6,
   "id": "funny-robert",
   "metadata": {},
   "outputs": [
    {
     "data": {
      "text/html": [],
      "text/plain": [
       "<IPython.core.display.HTML object>"
      ]
     },
     "metadata": {},
     "output_type": "display_data"
    },
    {
     "data": {
      "text/html": [
       "<table border=\"1\" class=\"dataframe\">\n",
       "  <thead>\n",
       "    <tr style=\"text-align: right;\">\n",
       "      <th></th>\n",
       "      <th>Candidate Answer</th>\n",
       "      <th>Context</th>\n",
       "      <th>Confidence</th>\n",
       "      <th>Document Reference</th>\n",
       "    </tr>\n",
       "  </thead>\n",
       "  <tbody>\n",
       "    <tr>\n",
       "      <th>0</th>\n",
       "      <td>the russian federation and the people ’ s republic of china in the arctic region</td>\n",
       "      <td><div> report on military activities of  <font color='red'>the russian federation and the people ’ s republic of china in the arctic region</font> .</div></td>\n",
       "      <td>0.437397</td>\n",
       "      <td>file_num_193.pdf</td>\n",
       "    </tr>\n",
       "    <tr>\n",
       "      <th>1</th>\n",
       "      <td>the arctic region</td>\n",
       "      <td><div> report on military activities of the russian federation and the people ’ s republic of china in  <font color='red'>the arctic region</font> .</div></td>\n",
       "      <td>0.304989</td>\n",
       "      <td>file_num_193.pdf</td>\n",
       "    </tr>\n",
       "    <tr>\n",
       "      <th>2</th>\n",
       "      <td>.</td>\n",
       "      <td><div>(f) the vulnerability of semi autonomous regions, such as tribal lands, to chinese foreign direct investment, including the influence of legal controls and political or economic manipulation with respect to such vulnerability <font color='red'>.</font>  (g) the implications of china ’ s arctic development and participation model with respect to forecasting china ’ s military, economy, territorial, and political activities</div></td>\n",
       "      <td>0.146888</td>\n",
       "      <td>file_num_193.pdf</td>\n",
       "    </tr>\n",
       "    <tr>\n",
       "      <th>3</th>\n",
       "      <td>.</td>\n",
       "      <td><div>(a) in general <font color='red'>.</font>  — not later than 180 days after the date of the enactment of this act, the secretary of defense, in consultation with the secretary of state and the director of national intelligence, shall submit to the appropriate committees of congress the following : (1) a report on any military activities of the russian federation in the arctic region</div></td>\n",
       "      <td>0.095480</td>\n",
       "      <td>file_num_193.pdf</td>\n",
       "    </tr>\n",
       "    <tr>\n",
       "      <th>4</th>\n",
       "      <td>of chinese foreign direct investment in countries of the arctic region</td>\n",
       "      <td><div> — not later than 45 days after the date of enactment of this act, the secretary of defense shall seek to enter into a contract with a federally funded research and development center described in paragraph (2) to complete an independent study  <font color='red'>of chinese foreign direct investment in countries of the arctic region</font> , with a focus on the effects of such foreign direct investment on united states national security and near peer competition in the arctic region.</div></td>\n",
       "      <td>0.013432</td>\n",
       "      <td>file_num_193.pdf</td>\n",
       "    </tr>\n",
       "    <tr>\n",
       "      <th>5</th>\n",
       "      <td>with canada and other regional partners</td>\n",
       "      <td><div> (4) a description of any cooperative arrangements  <font color='red'>with canada and other regional partners</font>  in providing rescue assets and infrastructure in connection with such operations.</div></td>\n",
       "      <td>0.001437</td>\n",
       "      <td>file_num_193.pdf</td>\n",
       "    </tr>\n",
       "    <tr>\n",
       "      <th>6</th>\n",
       "      <td>installation california</td>\n",
       "      <td><div>state / country and  <font color='red'>installation california</font>  naval air weapons station china lake naval air weapons station china lake naval air weapons station china lake naval air weapons station china lake naval air weapons station china lake naval air weapons station china lake naval air weapons station china lake north carolina camp lejeune camp lejeune camp lejeune camp lejeune</div></td>\n",
       "      <td>0.000256</td>\n",
       "      <td>file_num_193.pdf</td>\n",
       "    </tr>\n",
       "    <tr>\n",
       "      <th>7</th>\n",
       "      <td>) the arctic</td>\n",
       "      <td><div> — it is the sense of congress that — (1 <font color='red'>) the arctic</font>  is a region of strategic importance to the national security interests of the united states and the department of defense must better align its presence, force posture, and capabilities to meet the growing array of challenges in the region ; and (2) although much progress has been made to increase awareness of arctic issues and to promote increased presence in the region, additional measures, including the designation of one or more strategic arctic ports, are needed to show the commitment of the united states to this emerging strategic choke point of future great power competition.</div></td>\n",
       "      <td>0.000095</td>\n",
       "      <td>file_num_193.pdf</td>\n",
       "    </tr>\n",
       "    <tr>\n",
       "      <th>8</th>\n",
       "      <td>which chinese foreign direct investment are occurring in the united states, russia, canada, greenland, norway, and iceland</td>\n",
       "      <td><div> (2) an analysis of the legal environment in  <font color='red'>which chinese foreign direct investment are occurring in the united states, russia, canada, greenland, norway, and iceland</font> .</div></td>\n",
       "      <td>0.000017</td>\n",
       "      <td>file_num_193.pdf</td>\n",
       "    </tr>\n",
       "    <tr>\n",
       "      <th>9</th>\n",
       "      <td>strategic arctic</td>\n",
       "      <td><div> <font color='red'>strategic arctic</font>  ports from the sites identified under subsection (b) (2) (e).</div></td>\n",
       "      <td>0.000009</td>\n",
       "      <td>file_num_193.pdf</td>\n",
       "    </tr>\n",
       "  </tbody>\n",
       "</table>"
      ],
      "text/plain": [
       "<IPython.core.display.HTML object>"
      ]
     },
     "metadata": {},
     "output_type": "display_data"
    }
   ],
   "source": [
    "answers = qa.ask('China and arctic')\n",
    "qa.display_answers(answers)"
   ]
  }
 ],
 "metadata": {
  "kernelspec": {
   "display_name": "Python 3",
   "language": "python",
   "name": "python3"
  },
  "language_info": {
   "codemirror_mode": {
    "name": "ipython",
    "version": 3
   },
   "file_extension": ".py",
   "mimetype": "text/x-python",
   "name": "python",
   "nbconvert_exporter": "python",
   "pygments_lexer": "ipython3",
   "version": "3.7.9"
  }
 },
 "nbformat": 4,
 "nbformat_minor": 5
}
